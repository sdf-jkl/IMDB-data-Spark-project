{
 "cells": [
  {
   "cell_type": "markdown",
   "id": "e3fbb038-5b2d-4bd6-90eb-a14680d9e2ed",
   "metadata": {
    "tags": []
   },
   "source": [
    "# Part 1 - Installation and initial setup"
   ]
  },
  {
   "cell_type": "markdown",
   "id": "82640e57-2cc4-4cd4-b2d2-a61319cdb0b2",
   "metadata": {
    "tags": []
   },
   "source": [
    "## Loading packages"
   ]
  },
  {
   "cell_type": "code",
   "execution_count": 1,
   "id": "1b46f294-d0c1-4197-93f5-f30f7c462f30",
   "metadata": {
    "execution": {
     "iopub.execute_input": "2023-11-30T04:53:40.819965Z",
     "iopub.status.busy": "2023-11-30T04:53:40.819430Z",
     "iopub.status.idle": "2023-11-30T04:53:40.843059Z",
     "shell.execute_reply": "2023-11-30T04:53:40.838385Z",
     "shell.execute_reply.started": "2023-11-30T04:53:40.819929Z"
    },
    "tags": []
   },
   "outputs": [
    {
     "data": {
      "text/html": [
       "Current session configs: <tt>{'proxyUser': 'user_EMR-User', 'conf': {'spark.pyspark.python': 'python3', 'spark.pyspark.virtualenv.enabled': 'true', 'spark.pyspark.virtualenv.type': 'native', 'spark.pyspark.virtualenv.bin.path': '/usr/bin/virtualenv'}, 'kind': 'pyspark'}</tt><br>"
      ],
      "text/plain": [
       "<IPython.core.display.HTML object>"
      ]
     },
     "metadata": {},
     "output_type": "display_data"
    },
    {
     "data": {
      "text/html": [
       "No active sessions."
      ],
      "text/plain": [
       "<IPython.core.display.HTML object>"
      ]
     },
     "metadata": {},
     "output_type": "display_data"
    }
   ],
   "source": [
    "%%info"
   ]
  },
  {
   "cell_type": "markdown",
   "id": "85f87db6-20c0-49c4-bc22-8b400c14a774",
   "metadata": {},
   "source": [
    "Let's install pandas and matplotlib"
   ]
  },
  {
   "cell_type": "code",
   "execution_count": 2,
   "id": "2943e50c-57d1-4a4d-bc08-febb7bc79fd2",
   "metadata": {
    "execution": {
     "iopub.execute_input": "2023-11-30T04:53:40.844896Z",
     "iopub.status.busy": "2023-11-30T04:53:40.844330Z",
     "iopub.status.idle": "2023-11-30T04:54:30.834692Z",
     "shell.execute_reply": "2023-11-30T04:54:30.833751Z",
     "shell.execute_reply.started": "2023-11-30T04:53:40.844859Z"
    },
    "tags": []
   },
   "outputs": [
    {
     "data": {
      "application/vnd.jupyter.widget-view+json": {
       "model_id": "e1dbb95416694ec8b83da0b5fdb96cbd",
       "version_major": 2,
       "version_minor": 0
      },
      "text/plain": [
       "VBox()"
      ]
     },
     "metadata": {},
     "output_type": "display_data"
    },
    {
     "name": "stdout",
     "output_type": "stream",
     "text": [
      "Starting Spark application\n"
     ]
    },
    {
     "data": {
      "text/html": [
       "<table>\n<tbody><tr><th>ID</th><th>YARN Application ID</th><th>Kind</th><th>State</th><th>Spark UI</th><th>Driver log</th><th>User</th><th>Current session?</th></tr><tr><td>1</td><td>application_1701314028336_0002</td><td>pyspark</td><td>idle</td><td><a target=\"_blank\" href=\"http://ip-172-31-19-174.us-east-2.compute.internal:20888/proxy/application_1701314028336_0002/\" class=\"emr-proxy-link j-1KZM293F142P7 application_1701314028336_0002\" emr-resource=\"j-1KZM293F142P7\n\" application-id=\"application_1701314028336_0002\">Link</a></td><td><a target=\"_blank\" href=\"http://ip-172-31-16-177.us-east-2.compute.internal:8042/node/containerlogs/container_1701314028336_0002_01_000001/livy\">Link</a></td><td>None</td><td>✔</td></tr></tbody></table>"
      ],
      "text/plain": [
       "<IPython.core.display.HTML object>"
      ]
     },
     "metadata": {},
     "output_type": "display_data"
    },
    {
     "data": {
      "application/vnd.jupyter.widget-view+json": {
       "model_id": "",
       "version_major": 2,
       "version_minor": 0
      },
      "text/plain": [
       "FloatProgress(value=0.0, bar_style='info', description='Progress:', layout=Layout(height='25px', width='50%'),…"
      ]
     },
     "metadata": {},
     "output_type": "display_data"
    },
    {
     "name": "stdout",
     "output_type": "stream",
     "text": [
      "SparkSession available as 'spark'.\n"
     ]
    },
    {
     "data": {
      "application/vnd.jupyter.widget-view+json": {
       "model_id": "",
       "version_major": 2,
       "version_minor": 0
      },
      "text/plain": [
       "FloatProgress(value=0.0, bar_style='info', description='Progress:', layout=Layout(height='25px', width='50%'),…"
      ]
     },
     "metadata": {},
     "output_type": "display_data"
    },
    {
     "name": "stdout",
     "output_type": "stream",
     "text": [
      "Collecting pandas==1.0.5\n",
      "  Downloading pandas-1.0.5-cp37-cp37m-manylinux1_x86_64.whl (10.1 MB)\n",
      "Collecting python-dateutil>=2.6.1\n",
      "  Downloading python_dateutil-2.8.2-py2.py3-none-any.whl (247 kB)\n",
      "Requirement already satisfied: pytz>=2017.2 in /usr/local/lib/python3.7/site-packages (from pandas==1.0.5) (2023.3)\n",
      "Requirement already satisfied: numpy>=1.13.3 in /usr/local/lib64/python3.7/site-packages (from pandas==1.0.5) (1.20.0)\n",
      "Requirement already satisfied: six>=1.5 in /usr/local/lib/python3.7/site-packages (from python-dateutil>=2.6.1->pandas==1.0.5) (1.13.0)\n",
      "Installing collected packages: python-dateutil, pandas\n",
      "Successfully installed pandas-1.0.5 python-dateutil-2.8.2\n",
      "\n",
      "Collecting matplotlib==3.2.1\n",
      "  Downloading matplotlib-3.2.1-cp37-cp37m-manylinux1_x86_64.whl (12.4 MB)\n",
      "Collecting cycler>=0.10\n",
      "  Downloading cycler-0.11.0-py3-none-any.whl (6.4 kB)\n",
      "Collecting pyparsing!=2.0.4,!=2.1.2,!=2.1.6,>=2.0.1\n",
      "  Downloading pyparsing-3.1.1-py3-none-any.whl (103 kB)\n",
      "Requirement already satisfied: numpy>=1.11 in /usr/local/lib64/python3.7/site-packages (from matplotlib==3.2.1) (1.20.0)\n",
      "Requirement already satisfied: python-dateutil>=2.1 in ./tmp/spark-dc3b5304-3633-4cc9-baf4-8cbff951253f/lib/python3.7/site-packages (from matplotlib==3.2.1) (2.8.2)\n",
      "Collecting kiwisolver>=1.0.1\n",
      "  Downloading kiwisolver-1.4.5-cp37-cp37m-manylinux_2_5_x86_64.manylinux1_x86_64.whl (1.1 MB)\n",
      "Requirement already satisfied: six>=1.5 in /usr/local/lib/python3.7/site-packages (from python-dateutil>=2.1->matplotlib==3.2.1) (1.13.0)\n",
      "Collecting typing-extensions; python_version < \"3.8\"\n",
      "  Downloading typing_extensions-4.7.1-py3-none-any.whl (33 kB)\n",
      "Installing collected packages: cycler, pyparsing, typing-extensions, kiwisolver, matplotlib\n",
      "Successfully installed cycler-0.11.0 kiwisolver-1.4.5 matplotlib-3.2.1 pyparsing-3.1.1 typing-extensions-4.7.1\n",
      "\n",
      "WARNING: The directory '/home/.cache/pip' or its parent directory is not owned or is not writable by the current user. The cache has been disabled. Check the permissions and owner of that directory. If executing pip with sudo, you may want sudo's -H flag.\n",
      "\n",
      "WARNING: The directory '/home/.cache/pip' or its parent directory is not owned or is not writable by the current user. The cache has been disabled. Check the permissions and owner of that directory. If executing pip with sudo, you may want sudo's -H flag."
     ]
    }
   ],
   "source": [
    "sc.install_pypi_package('pandas==1.0.5')\n",
    "sc.install_pypi_package('matplotlib==3.2.1')"
   ]
  },
  {
   "cell_type": "markdown",
   "id": "02ed4219-e435-4559-a1f1-d88435fae275",
   "metadata": {},
   "source": [
    "Importing the installed packages"
   ]
  },
  {
   "cell_type": "code",
   "execution_count": 3,
   "id": "6d88f622-16e0-45e1-baa5-72877bee4999",
   "metadata": {
    "execution": {
     "iopub.execute_input": "2023-11-30T04:54:30.836949Z",
     "iopub.status.busy": "2023-11-30T04:54:30.836272Z",
     "iopub.status.idle": "2023-11-30T04:54:36.118827Z",
     "shell.execute_reply": "2023-11-30T04:54:36.117857Z",
     "shell.execute_reply.started": "2023-11-30T04:54:30.836884Z"
    }
   },
   "outputs": [
    {
     "data": {
      "application/vnd.jupyter.widget-view+json": {
       "model_id": "6747ac200da949f59e70065cfb9aae11",
       "version_major": 2,
       "version_minor": 0
      },
      "text/plain": [
       "VBox()"
      ]
     },
     "metadata": {},
     "output_type": "display_data"
    },
    {
     "data": {
      "application/vnd.jupyter.widget-view+json": {
       "model_id": "",
       "version_major": 2,
       "version_minor": 0
      },
      "text/plain": [
       "FloatProgress(value=0.0, bar_style='info', description='Progress:', layout=Layout(height='25px', width='50%'),…"
      ]
     },
     "metadata": {},
     "output_type": "display_data"
    }
   ],
   "source": [
    "import pandas as pd\n",
    "import matplotlib.pyplot as plt"
   ]
  },
  {
   "cell_type": "markdown",
   "id": "55218cc2-a68b-4cd1-b458-f770d2381d57",
   "metadata": {
    "tags": []
   },
   "source": [
    "## Loading Data"
   ]
  },
  {
   "cell_type": "markdown",
   "id": "5308609f-28e0-469f-aa1d-0efa95d87522",
   "metadata": {},
   "source": [
    "Loading all data from b3 bucket"
   ]
  },
  {
   "cell_type": "code",
   "execution_count": 4,
   "id": "df7d292e-d0f4-48d1-bf6e-e501ff565989",
   "metadata": {
    "execution": {
     "iopub.execute_input": "2023-11-30T04:54:36.120137Z",
     "iopub.status.busy": "2023-11-30T04:54:36.119858Z",
     "iopub.status.idle": "2023-11-30T04:54:45.447180Z",
     "shell.execute_reply": "2023-11-30T04:54:45.446486Z",
     "shell.execute_reply.started": "2023-11-30T04:54:36.120112Z"
    }
   },
   "outputs": [
    {
     "data": {
      "application/vnd.jupyter.widget-view+json": {
       "model_id": "2ecb8cb63aad44d494212ea619a920dc",
       "version_major": 2,
       "version_minor": 0
      },
      "text/plain": [
       "VBox()"
      ]
     },
     "metadata": {},
     "output_type": "display_data"
    },
    {
     "data": {
      "application/vnd.jupyter.widget-view+json": {
       "model_id": "",
       "version_major": 2,
       "version_minor": 0
      },
      "text/plain": [
       "FloatProgress(value=0.0, bar_style='info', description='Progress:', layout=Layout(height='25px', width='50%'),…"
      ]
     },
     "metadata": {},
     "output_type": "display_data"
    }
   ],
   "source": [
    "actors = spark.read.csv('s3://cis9760-lecture9-movieanalysis/name.basics.tsv', sep=r'\\t', header=True)\n",
    "genres = spark.read.csv('s3://cis9760-lecture9-movieanalysis/title.basics.tsv', sep=r'\\t', header=True)\n",
    "movie_actors = spark.read.csv('s3://cis9760-lecture9-movieanalysis/title.principals.tsv', sep=r'\\t', header=True)\n",
    "movie_ratings = spark.read.csv('s3://cis9760-lecture9-movieanalysis/title.ratings.tsv', sep=r'\\t', header=True)"
   ]
  },
  {
   "cell_type": "markdown",
   "id": "30720471-858f-400f-8aa7-f3f75a603932",
   "metadata": {
    "tags": []
   },
   "source": [
    "## Actors"
   ]
  },
  {
   "cell_type": "markdown",
   "id": "fd93dcc4-8f1e-45d0-b893-554c8d626623",
   "metadata": {},
   "source": [
    "Displaying the schema"
   ]
  },
  {
   "cell_type": "code",
   "execution_count": 5,
   "id": "2fe5ddbe-578d-47a3-9765-3b42aaece568",
   "metadata": {
    "execution": {
     "iopub.execute_input": "2023-11-30T04:54:45.448322Z",
     "iopub.status.busy": "2023-11-30T04:54:45.448100Z",
     "iopub.status.idle": "2023-11-30T04:54:45.691430Z",
     "shell.execute_reply": "2023-11-30T04:54:45.690571Z",
     "shell.execute_reply.started": "2023-11-30T04:54:45.448299Z"
    }
   },
   "outputs": [
    {
     "data": {
      "application/vnd.jupyter.widget-view+json": {
       "model_id": "fcb2db0dd8514325a42da8cd7fbc3a3d",
       "version_major": 2,
       "version_minor": 0
      },
      "text/plain": [
       "VBox()"
      ]
     },
     "metadata": {},
     "output_type": "display_data"
    },
    {
     "data": {
      "application/vnd.jupyter.widget-view+json": {
       "model_id": "",
       "version_major": 2,
       "version_minor": 0
      },
      "text/plain": [
       "FloatProgress(value=0.0, bar_style='info', description='Progress:', layout=Layout(height='25px', width='50%'),…"
      ]
     },
     "metadata": {},
     "output_type": "display_data"
    },
    {
     "name": "stdout",
     "output_type": "stream",
     "text": [
      "root\n",
      " |-- nconst: string (nullable = true)\n",
      " |-- primaryName: string (nullable = true)\n",
      " |-- birthYear: string (nullable = true)\n",
      " |-- deathYear: string (nullable = true)\n",
      " |-- primaryProfession: string (nullable = true)\n",
      " |-- knownForTitles: string (nullable = true)"
     ]
    }
   ],
   "source": [
    "actors.printSchema()"
   ]
  },
  {
   "cell_type": "markdown",
   "id": "94dac92b-3c87-4a4f-9396-266059e20b8e",
   "metadata": {},
   "source": [
    "Displaying first 5 rows with \n",
    "* `primaryName`\n",
    "* `birthYear`\n",
    "* `deathYear`\n",
    "* `knownForTitles`"
   ]
  },
  {
   "cell_type": "code",
   "execution_count": 6,
   "id": "70abe377-11cd-448c-b020-cabc1740b1b3",
   "metadata": {
    "execution": {
     "iopub.execute_input": "2023-11-30T04:54:45.693240Z",
     "iopub.status.busy": "2023-11-30T04:54:45.692877Z",
     "iopub.status.idle": "2023-11-30T04:54:46.452793Z",
     "shell.execute_reply": "2023-11-30T04:54:46.451958Z",
     "shell.execute_reply.started": "2023-11-30T04:54:45.693204Z"
    },
    "tags": []
   },
   "outputs": [
    {
     "data": {
      "application/vnd.jupyter.widget-view+json": {
       "model_id": "e6fa490c146f42a0acdcf1deb49a5bc1",
       "version_major": 2,
       "version_minor": 0
      },
      "text/plain": [
       "VBox()"
      ]
     },
     "metadata": {},
     "output_type": "display_data"
    },
    {
     "data": {
      "application/vnd.jupyter.widget-view+json": {
       "model_id": "",
       "version_major": 2,
       "version_minor": 0
      },
      "text/plain": [
       "FloatProgress(value=0.0, bar_style='info', description='Progress:', layout=Layout(height='25px', width='50%'),…"
      ]
     },
     "metadata": {},
     "output_type": "display_data"
    },
    {
     "name": "stdout",
     "output_type": "stream",
     "text": [
      "+---------------+---------+---------+--------------------+\n",
      "|    primaryName|birthYear|deathYear|      knownForTitles|\n",
      "+---------------+---------+---------+--------------------+\n",
      "|   Fred Astaire|     1899|     1987|tt0050419,tt00531...|\n",
      "|  Lauren Bacall|     1924|     2014|tt0071877,tt01170...|\n",
      "|Brigitte Bardot|     1934|       \\N|tt0054452,tt00491...|\n",
      "|   John Belushi|     1949|     1982|tt0077975,tt00725...|\n",
      "| Ingmar Bergman|     1918|     2007|tt0069467,tt00509...|\n",
      "+---------------+---------+---------+--------------------+\n",
      "only showing top 5 rows"
     ]
    }
   ],
   "source": [
    "actors.select('primaryName', 'birthYear', 'deathYear', 'knownForTitles').show(5)"
   ]
  },
  {
   "cell_type": "markdown",
   "id": "9aed469f-37c3-484f-95ec-9e9b8310e40b",
   "metadata": {
    "tags": []
   },
   "source": [
    "## Genres"
   ]
  },
  {
   "cell_type": "markdown",
   "id": "12fd8707-d8fc-4976-8c73-85e1271434df",
   "metadata": {},
   "source": [
    "Displaying the first 10 rows with the following columns:\n",
    "    \n",
    "* `titleType`\n",
    "* `primaryTitle`\n",
    "* `genres`"
   ]
  },
  {
   "cell_type": "code",
   "execution_count": 7,
   "id": "918805c9-ebaf-49d3-bb9b-7da990534b6f",
   "metadata": {
    "execution": {
     "iopub.execute_input": "2023-11-30T04:54:46.454096Z",
     "iopub.status.busy": "2023-11-30T04:54:46.453863Z",
     "iopub.status.idle": "2023-11-30T04:54:47.207320Z",
     "shell.execute_reply": "2023-11-30T04:54:47.206459Z",
     "shell.execute_reply.started": "2023-11-30T04:54:46.454074Z"
    }
   },
   "outputs": [
    {
     "data": {
      "application/vnd.jupyter.widget-view+json": {
       "model_id": "efc7e9f30c3a47da9ba8fadf60a3f0a8",
       "version_major": 2,
       "version_minor": 0
      },
      "text/plain": [
       "VBox()"
      ]
     },
     "metadata": {},
     "output_type": "display_data"
    },
    {
     "data": {
      "application/vnd.jupyter.widget-view+json": {
       "model_id": "",
       "version_major": 2,
       "version_minor": 0
      },
      "text/plain": [
       "FloatProgress(value=0.0, bar_style='info', description='Progress:', layout=Layout(height='25px', width='50%'),…"
      ]
     },
     "metadata": {},
     "output_type": "display_data"
    },
    {
     "name": "stdout",
     "output_type": "stream",
     "text": [
      "+---------+--------------------+--------------------+\n",
      "|titleType|        primaryTitle|              genres|\n",
      "+---------+--------------------+--------------------+\n",
      "|    short|          Carmencita|   Documentary,Short|\n",
      "|    short|Le clown et ses c...|     Animation,Short|\n",
      "|    short|      Pauvre Pierrot|Animation,Comedy,...|\n",
      "|    short|         Un bon bock|     Animation,Short|\n",
      "|    short|    Blacksmith Scene|        Comedy,Short|\n",
      "|    short|   Chinese Opium Den|               Short|\n",
      "|    short|Corbett and Court...|         Short,Sport|\n",
      "|    short|Edison Kinetoscop...|   Documentary,Short|\n",
      "|    movie|          Miss Jerry|             Romance|\n",
      "|    short| Exiting the Factory|   Documentary,Short|\n",
      "+---------+--------------------+--------------------+\n",
      "only showing top 10 rows"
     ]
    }
   ],
   "source": [
    "genres.select('titleType', 'primaryTitle', 'genres').show(10)"
   ]
  },
  {
   "cell_type": "markdown",
   "id": "013abb62-d37d-41d8-8386-65f235873a3e",
   "metadata": {},
   "source": [
    "Displaying the unique categories:"
   ]
  },
  {
   "cell_type": "code",
   "execution_count": 8,
   "id": "87625cbf-73d6-4e0c-af74-ad2135188787",
   "metadata": {
    "execution": {
     "iopub.execute_input": "2023-11-30T04:54:47.208682Z",
     "iopub.status.busy": "2023-11-30T04:54:47.208454Z",
     "iopub.status.idle": "2023-11-30T04:54:56.522353Z",
     "shell.execute_reply": "2023-11-30T04:54:56.521581Z",
     "shell.execute_reply.started": "2023-11-30T04:54:47.208659Z"
    },
    "tags": []
   },
   "outputs": [
    {
     "data": {
      "application/vnd.jupyter.widget-view+json": {
       "model_id": "107a96251e414657850c2eb088e3a5b1",
       "version_major": 2,
       "version_minor": 0
      },
      "text/plain": [
       "VBox()"
      ]
     },
     "metadata": {},
     "output_type": "display_data"
    },
    {
     "data": {
      "application/vnd.jupyter.widget-view+json": {
       "model_id": "",
       "version_major": 2,
       "version_minor": 0
      },
      "text/plain": [
       "FloatProgress(value=0.0, bar_style='info', description='Progress:', layout=Layout(height='25px', width='50%'),…"
      ]
     },
     "metadata": {},
     "output_type": "display_data"
    },
    {
     "name": "stdout",
     "output_type": "stream",
     "text": [
      "+------------+\n",
      "|   titleType|\n",
      "+------------+\n",
      "|    tvSeries|\n",
      "|tvMiniSeries|\n",
      "|       movie|\n",
      "|   videoGame|\n",
      "|   tvSpecial|\n",
      "|       video|\n",
      "|     tvMovie|\n",
      "|   tvEpisode|\n",
      "|     tvShort|\n",
      "|       short|\n",
      "+------------+"
     ]
    }
   ],
   "source": [
    "genres.select('titleType').distinct().show()"
   ]
  },
  {
   "cell_type": "markdown",
   "id": "72049e1b-b37e-4cab-8506-e98f30347678",
   "metadata": {},
   "source": [
    "Displaying the schema below:"
   ]
  },
  {
   "cell_type": "code",
   "execution_count": 9,
   "id": "8b18ea07-7fa2-4677-a9de-4e9e341d105f",
   "metadata": {
    "execution": {
     "iopub.execute_input": "2023-11-30T04:54:56.527073Z",
     "iopub.status.busy": "2023-11-30T04:54:56.526735Z",
     "iopub.status.idle": "2023-11-30T04:54:56.568874Z",
     "shell.execute_reply": "2023-11-30T04:54:56.568086Z",
     "shell.execute_reply.started": "2023-11-30T04:54:56.527037Z"
    },
    "tags": []
   },
   "outputs": [
    {
     "data": {
      "application/vnd.jupyter.widget-view+json": {
       "model_id": "af6db282319842938a68209085cd9f05",
       "version_major": 2,
       "version_minor": 0
      },
      "text/plain": [
       "VBox()"
      ]
     },
     "metadata": {},
     "output_type": "display_data"
    },
    {
     "data": {
      "application/vnd.jupyter.widget-view+json": {
       "model_id": "",
       "version_major": 2,
       "version_minor": 0
      },
      "text/plain": [
       "FloatProgress(value=0.0, bar_style='info', description='Progress:', layout=Layout(height='25px', width='50%'),…"
      ]
     },
     "metadata": {},
     "output_type": "display_data"
    },
    {
     "name": "stdout",
     "output_type": "stream",
     "text": [
      "root\n",
      " |-- tconst: string (nullable = true)\n",
      " |-- titleType: string (nullable = true)\n",
      " |-- primaryTitle: string (nullable = true)\n",
      " |-- originalTitle: string (nullable = true)\n",
      " |-- isAdult: string (nullable = true)\n",
      " |-- startYear: string (nullable = true)\n",
      " |-- endYear: string (nullable = true)\n",
      " |-- runtimeMinutes: string (nullable = true)\n",
      " |-- genres: string (nullable = true)"
     ]
    }
   ],
   "source": [
    "genres.printSchema()"
   ]
  },
  {
   "cell_type": "markdown",
   "id": "3f9f8b06-30c2-4a4a-bcfd-6e7c9ae1ac66",
   "metadata": {
    "execution": {
     "iopub.execute_input": "2023-11-12T19:05:03.473096Z",
     "iopub.status.busy": "2023-11-12T19:05:03.472801Z",
     "iopub.status.idle": "2023-11-12T19:05:03.524594Z",
     "shell.execute_reply": "2023-11-12T19:05:03.523931Z",
     "shell.execute_reply.started": "2023-11-12T19:05:03.473071Z"
    },
    "tags": []
   },
   "source": [
    "## Movie Actors"
   ]
  },
  {
   "cell_type": "markdown",
   "id": "11dbc2c9-97d0-481e-a982-1b23b6531f7b",
   "metadata": {},
   "source": [
    "Displaying the schema below:"
   ]
  },
  {
   "cell_type": "code",
   "execution_count": 10,
   "id": "c0e2216c-05e7-4c7c-ac83-691c6b9fe9e2",
   "metadata": {
    "execution": {
     "iopub.execute_input": "2023-11-30T04:54:56.570831Z",
     "iopub.status.busy": "2023-11-30T04:54:56.570572Z",
     "iopub.status.idle": "2023-11-30T04:54:56.615200Z",
     "shell.execute_reply": "2023-11-30T04:54:56.614415Z",
     "shell.execute_reply.started": "2023-11-30T04:54:56.570800Z"
    }
   },
   "outputs": [
    {
     "data": {
      "application/vnd.jupyter.widget-view+json": {
       "model_id": "4b8aa091470a4278a08f339c72c7f727",
       "version_major": 2,
       "version_minor": 0
      },
      "text/plain": [
       "VBox()"
      ]
     },
     "metadata": {},
     "output_type": "display_data"
    },
    {
     "data": {
      "application/vnd.jupyter.widget-view+json": {
       "model_id": "",
       "version_major": 2,
       "version_minor": 0
      },
      "text/plain": [
       "FloatProgress(value=0.0, bar_style='info', description='Progress:', layout=Layout(height='25px', width='50%'),…"
      ]
     },
     "metadata": {},
     "output_type": "display_data"
    },
    {
     "name": "stdout",
     "output_type": "stream",
     "text": [
      "root\n",
      " |-- tconst: string (nullable = true)\n",
      " |-- ordering: string (nullable = true)\n",
      " |-- nconst: string (nullable = true)\n",
      " |-- category: string (nullable = true)\n",
      " |-- job: string (nullable = true)\n",
      " |-- characters: string (nullable = true)"
     ]
    }
   ],
   "source": [
    "movie_actors.printSchema()"
   ]
  },
  {
   "cell_type": "code",
   "execution_count": 11,
   "id": "9865d354-e744-40ae-a399-7c73c67874ce",
   "metadata": {
    "execution": {
     "iopub.execute_input": "2023-11-30T04:54:56.616769Z",
     "iopub.status.busy": "2023-11-30T04:54:56.616448Z",
     "iopub.status.idle": "2023-11-30T04:54:57.381541Z",
     "shell.execute_reply": "2023-11-30T04:54:57.380644Z",
     "shell.execute_reply.started": "2023-11-30T04:54:56.616734Z"
    }
   },
   "outputs": [
    {
     "data": {
      "application/vnd.jupyter.widget-view+json": {
       "model_id": "f6aa60b981d14e2a9e77d4f1712d2bca",
       "version_major": 2,
       "version_minor": 0
      },
      "text/plain": [
       "VBox()"
      ]
     },
     "metadata": {},
     "output_type": "display_data"
    },
    {
     "data": {
      "application/vnd.jupyter.widget-view+json": {
       "model_id": "",
       "version_major": 2,
       "version_minor": 0
      },
      "text/plain": [
       "FloatProgress(value=0.0, bar_style='info', description='Progress:', layout=Layout(height='25px', width='50%'),…"
      ]
     },
     "metadata": {},
     "output_type": "display_data"
    },
    {
     "name": "stdout",
     "output_type": "stream",
     "text": [
      "+---------+--------+---------+---------------+--------------------+-----------+\n",
      "|   tconst|ordering|   nconst|       category|                 job| characters|\n",
      "+---------+--------+---------+---------------+--------------------+-----------+\n",
      "|tt0000001|       1|nm1588970|           self|                  \\N|[\"Herself\"]|\n",
      "|tt0000001|       2|nm0005690|       director|                  \\N|         \\N|\n",
      "|tt0000001|       3|nm0374658|cinematographer|director of photo...|         \\N|\n",
      "|tt0000002|       1|nm0721526|       director|                  \\N|         \\N|\n",
      "|tt0000002|       2|nm1335271|       composer|                  \\N|         \\N|\n",
      "|tt0000003|       1|nm0721526|       director|                  \\N|         \\N|\n",
      "|tt0000003|       2|nm5442194|       producer|            producer|         \\N|\n",
      "|tt0000003|       3|nm1335271|       composer|                  \\N|         \\N|\n",
      "|tt0000003|       4|nm5442200|         editor|                  \\N|         \\N|\n",
      "|tt0000004|       1|nm0721526|       director|                  \\N|         \\N|\n",
      "+---------+--------+---------+---------------+--------------------+-----------+\n",
      "only showing top 10 rows"
     ]
    }
   ],
   "source": [
    "movie_actors.show(10)"
   ]
  },
  {
   "cell_type": "markdown",
   "id": "871a445e-6219-49da-8736-f19a52a2a0f9",
   "metadata": {
    "tags": []
   },
   "source": [
    "## Movie Ratings"
   ]
  },
  {
   "cell_type": "markdown",
   "id": "68623fea-785b-4733-b96f-5e437e0232ca",
   "metadata": {},
   "source": [
    "Displaying the schema below:"
   ]
  },
  {
   "cell_type": "code",
   "execution_count": 12,
   "id": "e4893fcc-0bee-4cca-b2a4-2f1635f11064",
   "metadata": {
    "execution": {
     "iopub.execute_input": "2023-11-30T04:54:57.383084Z",
     "iopub.status.busy": "2023-11-30T04:54:57.382753Z",
     "iopub.status.idle": "2023-11-30T04:54:57.430807Z",
     "shell.execute_reply": "2023-11-30T04:54:57.430130Z",
     "shell.execute_reply.started": "2023-11-30T04:54:57.383047Z"
    }
   },
   "outputs": [
    {
     "data": {
      "application/vnd.jupyter.widget-view+json": {
       "model_id": "afd9b3a863ca4440b61bdb89836b1cc9",
       "version_major": 2,
       "version_minor": 0
      },
      "text/plain": [
       "VBox()"
      ]
     },
     "metadata": {},
     "output_type": "display_data"
    },
    {
     "data": {
      "application/vnd.jupyter.widget-view+json": {
       "model_id": "",
       "version_major": 2,
       "version_minor": 0
      },
      "text/plain": [
       "FloatProgress(value=0.0, bar_style='info', description='Progress:', layout=Layout(height='25px', width='50%'),…"
      ]
     },
     "metadata": {},
     "output_type": "display_data"
    },
    {
     "name": "stdout",
     "output_type": "stream",
     "text": [
      "root\n",
      " |-- tconst: string (nullable = true)\n",
      " |-- averageRating: string (nullable = true)\n",
      " |-- numVotes: string (nullable = true)"
     ]
    }
   ],
   "source": [
    "movie_ratings.printSchema()"
   ]
  },
  {
   "cell_type": "code",
   "execution_count": 13,
   "id": "6b615198-3038-47f1-9e41-9b9303163536",
   "metadata": {
    "execution": {
     "iopub.execute_input": "2023-11-30T04:54:57.432097Z",
     "iopub.status.busy": "2023-11-30T04:54:57.431854Z",
     "iopub.status.idle": "2023-11-30T04:54:58.690072Z",
     "shell.execute_reply": "2023-11-30T04:54:58.689180Z",
     "shell.execute_reply.started": "2023-11-30T04:54:57.432074Z"
    },
    "tags": []
   },
   "outputs": [
    {
     "data": {
      "application/vnd.jupyter.widget-view+json": {
       "model_id": "ad2df1a2e1a14433973a0576eb7f19ab",
       "version_major": 2,
       "version_minor": 0
      },
      "text/plain": [
       "VBox()"
      ]
     },
     "metadata": {},
     "output_type": "display_data"
    },
    {
     "data": {
      "application/vnd.jupyter.widget-view+json": {
       "model_id": "",
       "version_major": 2,
       "version_minor": 0
      },
      "text/plain": [
       "FloatProgress(value=0.0, bar_style='info', description='Progress:', layout=Layout(height='25px', width='50%'),…"
      ]
     },
     "metadata": {},
     "output_type": "display_data"
    },
    {
     "name": "stdout",
     "output_type": "stream",
     "text": [
      "+---------+-------------+--------+\n",
      "|   tconst|averageRating|numVotes|\n",
      "+---------+-------------+--------+\n",
      "|tt7430722|          6.8|    9999|\n",
      "|tt4445154|          8.1|    9997|\n",
      "|tt2229907|          6.3|    9996|\n",
      "|tt0294097|          8.0|    9994|\n",
      "|tt0264734|          6.5|    9993|\n",
      "|tt8860450|          6.3|    9991|\n",
      "|tt2032572|          5.2|    9991|\n",
      "|tt0025173|          6.6|     999|\n",
      "|tt0696544|          8.2|     999|\n",
      "|tt0062155|          6.9|     999|\n",
      "+---------+-------------+--------+\n",
      "only showing top 10 rows"
     ]
    }
   ],
   "source": [
    "movie_ratings.sort('numVotes', ascending = False).show(10)"
   ]
  },
  {
   "cell_type": "markdown",
   "id": "528550f9-cd8c-4ef8-ab6d-77dfba4f2e6f",
   "metadata": {},
   "source": [
    "## Overview of Data"
   ]
  },
  {
   "cell_type": "markdown",
   "id": "bed4b1fe-d5d1-4d38-970b-011d8ebf223f",
   "metadata": {},
   "source": [
    "Displaying the number of rows and columns in each dataframe:"
   ]
  },
  {
   "cell_type": "code",
   "execution_count": 14,
   "id": "87021158-fe56-4e43-b3c1-56e6630a58e7",
   "metadata": {
    "execution": {
     "iopub.execute_input": "2023-11-30T04:54:58.691675Z",
     "iopub.status.busy": "2023-11-30T04:54:58.691343Z",
     "iopub.status.idle": "2023-11-30T04:54:58.742969Z",
     "shell.execute_reply": "2023-11-30T04:54:58.741826Z",
     "shell.execute_reply.started": "2023-11-30T04:54:58.691639Z"
    },
    "tags": []
   },
   "outputs": [
    {
     "data": {
      "application/vnd.jupyter.widget-view+json": {
       "model_id": "a79617c18f5240b09ec4c51d230f67e7",
       "version_major": 2,
       "version_minor": 0
      },
      "text/plain": [
       "VBox()"
      ]
     },
     "metadata": {},
     "output_type": "display_data"
    },
    {
     "data": {
      "application/vnd.jupyter.widget-view+json": {
       "model_id": "",
       "version_major": 2,
       "version_minor": 0
      },
      "text/plain": [
       "FloatProgress(value=0.0, bar_style='info', description='Progress:', layout=Layout(height='25px', width='50%'),…"
      ]
     },
     "metadata": {},
     "output_type": "display_data"
    },
    {
     "name": "stdout",
     "output_type": "stream",
     "text": [
      "['nconst', 'primaryName', 'birthYear', 'deathYear', 'primaryProfession', 'knownForTitles']"
     ]
    }
   ],
   "source": [
    "actors.columns"
   ]
  },
  {
   "cell_type": "code",
   "execution_count": 15,
   "id": "558b7f97-cd23-4f97-abab-3d02bc60f31c",
   "metadata": {
    "execution": {
     "iopub.execute_input": "2023-11-30T04:54:58.744701Z",
     "iopub.status.busy": "2023-11-30T04:54:58.744360Z",
     "iopub.status.idle": "2023-11-30T04:55:16.073905Z",
     "shell.execute_reply": "2023-11-30T04:55:16.073123Z",
     "shell.execute_reply.started": "2023-11-30T04:54:58.744653Z"
    },
    "tags": []
   },
   "outputs": [
    {
     "data": {
      "application/vnd.jupyter.widget-view+json": {
       "model_id": "5570b3de21544a51b738d664c6f2126b",
       "version_major": 2,
       "version_minor": 0
      },
      "text/plain": [
       "VBox()"
      ]
     },
     "metadata": {},
     "output_type": "display_data"
    },
    {
     "data": {
      "application/vnd.jupyter.widget-view+json": {
       "model_id": "",
       "version_major": 2,
       "version_minor": 0
      },
      "text/plain": [
       "FloatProgress(value=0.0, bar_style='info', description='Progress:', layout=Layout(height='25px', width='50%'),…"
      ]
     },
     "metadata": {},
     "output_type": "display_data"
    },
    {
     "name": "stdout",
     "output_type": "stream",
     "text": [
      "Number of columns in Actors table:  6 \n",
      "Number of rows in Actors table:  9706922 \n",
      "\n",
      "Number of columns in Genres table:  9 \n",
      "Number of rows in Genres table:  6321302 \n",
      "\n",
      "Number of columns in Movie Actors table:  6 \n",
      "Number of rows in Movie Actors table:  36468817 \n",
      "\n",
      "Number of columns in Movie Ratings table:  3 \n",
      "Number of rows in Movie Ratings table:  993153"
     ]
    }
   ],
   "source": [
    "print(\n",
    "    \"Number of columns in Actors table: \", len(actors.columns),\n",
    "    \"\\nNumber of rows in Actors table: \", actors.count(),\n",
    "    \"\\n\\nNumber of columns in Genres table: \", len(genres.columns),\n",
    "    \"\\nNumber of rows in Genres table: \", genres.count(),\n",
    "    \"\\n\\nNumber of columns in Movie Actors table: \", len(movie_actors.columns),\n",
    "    \"\\nNumber of rows in Movie Actors table: \", movie_actors.count(),\n",
    "    \"\\n\\nNumber of columns in Movie Ratings table: \", len(movie_ratings.columns),\n",
    "    \"\\nNumber of rows in Movie Ratings table: \", movie_ratings.count()\n",
    ")"
   ]
  },
  {
   "cell_type": "markdown",
   "id": "a1c8ee89-e1f5-47cb-903f-fbf4ec1edaad",
   "metadata": {
    "execution": {
     "iopub.execute_input": "2023-11-12T19:36:09.347067Z",
     "iopub.status.busy": "2023-11-12T19:36:09.346748Z",
     "iopub.status.idle": "2023-11-12T19:36:09.396415Z",
     "shell.execute_reply": "2023-11-12T19:36:09.395716Z",
     "shell.execute_reply.started": "2023-11-12T19:36:09.347040Z"
    },
    "tags": []
   },
   "source": [
    "# Part 2 - Analyzing Genres"
   ]
  },
  {
   "cell_type": "markdown",
   "id": "8fa3b75d-b094-49ec-8ebc-c8553425356e",
   "metadata": {
    "execution": {
     "iopub.execute_input": "2023-11-12T20:35:56.198401Z",
     "iopub.status.busy": "2023-11-12T20:35:56.198041Z",
     "iopub.status.idle": "2023-11-12T20:35:56.241396Z",
     "shell.execute_reply": "2023-11-12T20:35:56.240551Z",
     "shell.execute_reply.started": "2023-11-12T20:35:56.198373Z"
    }
   },
   "source": [
    "Let's now answer this question: how many unique genres are represented in this dataset?\n",
    "\n",
    "Essentially, we have the genres per movie as a list - this is useful to quickly see what each movie might be represented as but it is difficult to easily answer questions such as:\n",
    "\n",
    "* How many movies are categorized as Comedy, for instance?\n",
    "* What are the top 20 most popular genres available?"
   ]
  },
  {
   "cell_type": "markdown",
   "id": "81b3ebd0-7d42-43f9-be6f-17aac2187e7a",
   "metadata": {},
   "source": [
    "## Association Table"
   ]
  },
  {
   "cell_type": "markdown",
   "id": "b26b23f4-a58b-4582-82d9-2aea9160c362",
   "metadata": {
    "execution": {
     "iopub.execute_input": "2023-11-12T20:51:42.035452Z",
     "iopub.status.busy": "2023-11-12T20:51:42.035152Z",
     "iopub.status.idle": "2023-11-12T20:51:42.082759Z",
     "shell.execute_reply": "2023-11-12T20:51:42.082058Z",
     "shell.execute_reply.started": "2023-11-12T20:51:42.035427Z"
    }
   },
   "source": [
    "We need to \"break out\" these genres from the tconst? One common approach to take is to build an association table mapping a single tconst multiple times to each distinct genre.\n",
    "\n",
    "For instance, given the following:\n",
    "\n",
    "\n",
    "| tconst   | titleType  |genres |\n",
    "|----------|------------|-------|\n",
    "| abcd123  | XXX        |a,b,c  |\n",
    "\n",
    "We would like to derive something like:\n",
    "\n",
    "| tconst   |  titleType |genre |\n",
    "|----------|------------|------|\n",
    "| abcd123  | XXX        |a     |\n",
    "| abcd123  | XXX        |b     |\n",
    "| abcd123  | XXX        |c     |\n",
    "\n",
    "\n",
    "What this does is allow us to then perform a myriad of rollups and other analysis on this association table which can aid us in answering the questions asked above.\n",
    "\n",
    "Implement the code necessary to derive the table described from the data set"
   ]
  },
  {
   "cell_type": "code",
   "execution_count": 16,
   "id": "2ad28cf4-5c46-4b1d-aa7c-42a3715c2da4",
   "metadata": {
    "execution": {
     "iopub.execute_input": "2023-11-30T04:55:16.075660Z",
     "iopub.status.busy": "2023-11-30T04:55:16.075339Z",
     "iopub.status.idle": "2023-11-30T04:55:16.329674Z",
     "shell.execute_reply": "2023-11-30T04:55:16.328995Z",
     "shell.execute_reply.started": "2023-11-30T04:55:16.075623Z"
    }
   },
   "outputs": [
    {
     "data": {
      "application/vnd.jupyter.widget-view+json": {
       "model_id": "91170104ae0346f883d6817f6e18d89d",
       "version_major": 2,
       "version_minor": 0
      },
      "text/plain": [
       "VBox()"
      ]
     },
     "metadata": {},
     "output_type": "display_data"
    },
    {
     "data": {
      "application/vnd.jupyter.widget-view+json": {
       "model_id": "",
       "version_major": 2,
       "version_minor": 0
      },
      "text/plain": [
       "FloatProgress(value=0.0, bar_style='info', description='Progress:', layout=Layout(height='25px', width='50%'),…"
      ]
     },
     "metadata": {},
     "output_type": "display_data"
    },
    {
     "name": "stdout",
     "output_type": "stream",
     "text": [
      "+---------+---------+--------------------+\n",
      "|   tconst|titleType|              genres|\n",
      "+---------+---------+--------------------+\n",
      "|tt0000001|    short|   Documentary,Short|\n",
      "|tt0000002|    short|     Animation,Short|\n",
      "|tt0000003|    short|Animation,Comedy,...|\n",
      "|tt0000004|    short|     Animation,Short|\n",
      "|tt0000005|    short|        Comedy,Short|\n",
      "+---------+---------+--------------------+\n",
      "only showing top 5 rows"
     ]
    }
   ],
   "source": [
    "genres.select('tconst', 'titleType', 'genres').show(5)"
   ]
  },
  {
   "cell_type": "code",
   "execution_count": 17,
   "id": "f89b8a6d-c97f-47f4-a56b-78b273f614f0",
   "metadata": {
    "execution": {
     "iopub.execute_input": "2023-11-30T04:55:16.330941Z",
     "iopub.status.busy": "2023-11-30T04:55:16.330698Z",
     "iopub.status.idle": "2023-11-30T04:55:17.106093Z",
     "shell.execute_reply": "2023-11-30T04:55:17.105425Z",
     "shell.execute_reply.started": "2023-11-30T04:55:16.330918Z"
    },
    "tags": []
   },
   "outputs": [
    {
     "data": {
      "application/vnd.jupyter.widget-view+json": {
       "model_id": "1423cb49719940fd86352878c0e66b83",
       "version_major": 2,
       "version_minor": 0
      },
      "text/plain": [
       "VBox()"
      ]
     },
     "metadata": {},
     "output_type": "display_data"
    },
    {
     "data": {
      "application/vnd.jupyter.widget-view+json": {
       "model_id": "",
       "version_major": 2,
       "version_minor": 0
      },
      "text/plain": [
       "FloatProgress(value=0.0, bar_style='info', description='Progress:', layout=Layout(height='25px', width='50%'),…"
      ]
     },
     "metadata": {},
     "output_type": "display_data"
    },
    {
     "name": "stdout",
     "output_type": "stream",
     "text": [
      "+---------+---------+-----------+\n",
      "|   tconst|titleType|      genre|\n",
      "+---------+---------+-----------+\n",
      "|tt0000001|    short|Documentary|\n",
      "|tt0000001|    short|      Short|\n",
      "|tt0000002|    short|  Animation|\n",
      "|tt0000002|    short|      Short|\n",
      "|tt0000003|    short|  Animation|\n",
      "|tt0000003|    short|     Comedy|\n",
      "|tt0000003|    short|    Romance|\n",
      "|tt0000004|    short|  Animation|\n",
      "|tt0000004|    short|      Short|\n",
      "|tt0000005|    short|     Comedy|\n",
      "+---------+---------+-----------+\n",
      "only showing top 10 rows"
     ]
    }
   ],
   "source": [
    "from pyspark.sql.functions import explode, split\n",
    "genres = genres.withColumn('genre', explode(split('genres', ',')))\n",
    "genres.select('tconst', 'titleType', 'genre').show(10) "
   ]
  },
  {
   "cell_type": "markdown",
   "id": "55394e3e-3be7-4279-86ac-c60b3ddafdbd",
   "metadata": {
    "tags": []
   },
   "source": [
    "## Total Unique Genres"
   ]
  },
  {
   "cell_type": "markdown",
   "id": "f6de4d2f-ceb6-4a98-8eff-caf46da0164d",
   "metadata": {},
   "source": [
    "**What is the total number of unique genres available in the movie category?**"
   ]
  },
  {
   "cell_type": "code",
   "execution_count": 18,
   "id": "85910312-2056-438f-9b44-80c20df008e4",
   "metadata": {
    "execution": {
     "iopub.execute_input": "2023-11-30T04:55:17.107306Z",
     "iopub.status.busy": "2023-11-30T04:55:17.107103Z",
     "iopub.status.idle": "2023-11-30T04:55:26.406749Z",
     "shell.execute_reply": "2023-11-30T04:55:26.405958Z",
     "shell.execute_reply.started": "2023-11-30T04:55:17.107285Z"
    },
    "tags": []
   },
   "outputs": [
    {
     "data": {
      "application/vnd.jupyter.widget-view+json": {
       "model_id": "99c0329163eb400f96489a6db6640589",
       "version_major": 2,
       "version_minor": 0
      },
      "text/plain": [
       "VBox()"
      ]
     },
     "metadata": {},
     "output_type": "display_data"
    },
    {
     "data": {
      "application/vnd.jupyter.widget-view+json": {
       "model_id": "",
       "version_major": 2,
       "version_minor": 0
      },
      "text/plain": [
       "FloatProgress(value=0.0, bar_style='info', description='Progress:', layout=Layout(height='25px', width='50%'),…"
      ]
     },
     "metadata": {},
     "output_type": "display_data"
    },
    {
     "name": "stdout",
     "output_type": "stream",
     "text": [
      "29"
     ]
    }
   ],
   "source": [
    "from pyspark.sql.functions  import approx_count_distinct, countDistinct\n",
    "genres.select(countDistinct('genre')).collect()[0][0]"
   ]
  },
  {
   "cell_type": "markdown",
   "id": "a384080f-fa23-4a30-b328-8dac44916ae5",
   "metadata": {
    "execution": {
     "iopub.execute_input": "2023-11-12T21:11:55.571071Z",
     "iopub.status.busy": "2023-11-12T21:11:55.570756Z",
     "iopub.status.idle": "2023-11-12T21:11:55.623172Z",
     "shell.execute_reply": "2023-11-12T21:11:55.622091Z",
     "shell.execute_reply.started": "2023-11-12T21:11:55.571044Z"
    }
   },
   "source": [
    "**What are the unique genres available?**"
   ]
  },
  {
   "cell_type": "code",
   "execution_count": 19,
   "id": "abadd783-6eab-407d-a33c-29545915046f",
   "metadata": {
    "execution": {
     "iopub.execute_input": "2023-11-30T04:55:26.407977Z",
     "iopub.status.busy": "2023-11-30T04:55:26.407749Z",
     "iopub.status.idle": "2023-11-30T04:55:33.710004Z",
     "shell.execute_reply": "2023-11-30T04:55:33.709231Z",
     "shell.execute_reply.started": "2023-11-30T04:55:26.407954Z"
    },
    "tags": []
   },
   "outputs": [
    {
     "data": {
      "application/vnd.jupyter.widget-view+json": {
       "model_id": "669fc7b18da74a00a96a415989c0223f",
       "version_major": 2,
       "version_minor": 0
      },
      "text/plain": [
       "VBox()"
      ]
     },
     "metadata": {},
     "output_type": "display_data"
    },
    {
     "data": {
      "application/vnd.jupyter.widget-view+json": {
       "model_id": "",
       "version_major": 2,
       "version_minor": 0
      },
      "text/plain": [
       "FloatProgress(value=0.0, bar_style='info', description='Progress:', layout=Layout(height='25px', width='50%'),…"
      ]
     },
     "metadata": {},
     "output_type": "display_data"
    },
    {
     "name": "stdout",
     "output_type": "stream",
     "text": [
      "+-----------+\n",
      "|      genre|\n",
      "+-----------+\n",
      "|    Mystery|\n",
      "|    Musical|\n",
      "|      Sport|\n",
      "|     Action|\n",
      "|  Talk-Show|\n",
      "|    Romance|\n",
      "|   Thriller|\n",
      "|         \\N|\n",
      "| Reality-TV|\n",
      "|     Family|\n",
      "|    Fantasy|\n",
      "|    History|\n",
      "|  Animation|\n",
      "|  Film-Noir|\n",
      "|      Short|\n",
      "|     Sci-Fi|\n",
      "|       News|\n",
      "|      Drama|\n",
      "|Documentary|\n",
      "|    Western|\n",
      "+-----------+\n",
      "only showing top 20 rows"
     ]
    }
   ],
   "source": [
    "genres.select('genre').distinct().show(20)"
   ]
  },
  {
   "cell_type": "markdown",
   "id": "92bb0bd8-ba0b-4dbb-a736-dab5d3e97d51",
   "metadata": {},
   "source": [
    "**there is a wierd \"\\N\" in the genres list**"
   ]
  },
  {
   "cell_type": "code",
   "execution_count": 20,
   "id": "0d2f4fbf-66f7-4aa0-829f-62f4719641e3",
   "metadata": {
    "execution": {
     "iopub.execute_input": "2023-11-30T04:55:33.711652Z",
     "iopub.status.busy": "2023-11-30T04:55:33.711328Z",
     "iopub.status.idle": "2023-11-30T04:55:41.003702Z",
     "shell.execute_reply": "2023-11-30T04:55:41.002833Z",
     "shell.execute_reply.started": "2023-11-30T04:55:33.711618Z"
    },
    "tags": []
   },
   "outputs": [
    {
     "data": {
      "application/vnd.jupyter.widget-view+json": {
       "model_id": "20fe2971f028487dba16f4b89b47daac",
       "version_major": 2,
       "version_minor": 0
      },
      "text/plain": [
       "VBox()"
      ]
     },
     "metadata": {},
     "output_type": "display_data"
    },
    {
     "data": {
      "application/vnd.jupyter.widget-view+json": {
       "model_id": "",
       "version_major": 2,
       "version_minor": 0
      },
      "text/plain": [
       "FloatProgress(value=0.0, bar_style='info', description='Progress:', layout=Layout(height='25px', width='50%'),…"
      ]
     },
     "metadata": {},
     "output_type": "display_data"
    },
    {
     "name": "stdout",
     "output_type": "stream",
     "text": [
      "+-----------+\n",
      "|      genre|\n",
      "+-----------+\n",
      "|    Mystery|\n",
      "|    Musical|\n",
      "|      Sport|\n",
      "|     Action|\n",
      "|  Talk-Show|\n",
      "|    Romance|\n",
      "|   Thriller|\n",
      "| Reality-TV|\n",
      "|     Family|\n",
      "|    Fantasy|\n",
      "|    History|\n",
      "|  Animation|\n",
      "|  Film-Noir|\n",
      "|      Short|\n",
      "|     Sci-Fi|\n",
      "|       News|\n",
      "|      Drama|\n",
      "|Documentary|\n",
      "|    Western|\n",
      "|     Comedy|\n",
      "+-----------+\n",
      "only showing top 20 rows"
     ]
    }
   ],
   "source": [
    "genres = genres.filter(genres.genre != \"\\\\N\")\n",
    "genres.select('genre').distinct().show(20)"
   ]
  },
  {
   "cell_type": "code",
   "execution_count": 21,
   "id": "1c734d1f-0298-42b0-a7bd-da295b8c71d1",
   "metadata": {
    "execution": {
     "iopub.execute_input": "2023-11-30T04:55:41.005392Z",
     "iopub.status.busy": "2023-11-30T04:55:41.005063Z",
     "iopub.status.idle": "2023-11-30T04:55:48.290267Z",
     "shell.execute_reply": "2023-11-30T04:55:48.289584Z",
     "shell.execute_reply.started": "2023-11-30T04:55:41.005357Z"
    },
    "tags": []
   },
   "outputs": [
    {
     "data": {
      "application/vnd.jupyter.widget-view+json": {
       "model_id": "27ba7a4256eb4d34bfbf7d1d85db49e5",
       "version_major": 2,
       "version_minor": 0
      },
      "text/plain": [
       "VBox()"
      ]
     },
     "metadata": {},
     "output_type": "display_data"
    },
    {
     "data": {
      "application/vnd.jupyter.widget-view+json": {
       "model_id": "",
       "version_major": 2,
       "version_minor": 0
      },
      "text/plain": [
       "FloatProgress(value=0.0, bar_style='info', description='Progress:', layout=Layout(height='25px', width='50%'),…"
      ]
     },
     "metadata": {},
     "output_type": "display_data"
    },
    {
     "name": "stdout",
     "output_type": "stream",
     "text": [
      "28"
     ]
    }
   ],
   "source": [
    "genres.select(countDistinct('genre')).collect()[0][0]"
   ]
  },
  {
   "cell_type": "markdown",
   "id": "719f7675-902c-4729-a913-bf7274188672",
   "metadata": {
    "tags": []
   },
   "source": [
    "## Top genres by Movies"
   ]
  },
  {
   "cell_type": "markdown",
   "id": "4df74bb5-14b0-4678-a046-26cb1c5abe41",
   "metadata": {},
   "source": [
    "Finding the highest rates genres in the dataset."
   ]
  },
  {
   "cell_type": "markdown",
   "id": "c975c43c-2f35-4db7-90d2-d6702fe15f06",
   "metadata": {
    "tags": []
   },
   "source": [
    "### Average Rating / Genre"
   ]
  },
  {
   "cell_type": "markdown",
   "id": "3cd4e848-f2e7-4aaa-a8c0-789721d71165",
   "metadata": {},
   "source": [
    "So now, let's unroll our distinct count a bit and display the per average rating value of per genre.\n",
    "\n",
    "The expected output should be:\n",
    "\n",
    "| genre | averageRating |\n",
    "|-------------|------------|\n",
    "| a     | 8.5         |\n",
    "| b     | 6.3         |\n",
    "| c     | 7.2         |\n",
    "\n",
    "Or something to that effect."
   ]
  },
  {
   "cell_type": "markdown",
   "id": "96a59b81-d7ae-4a43-88ef-1e0c0e0f2cc5",
   "metadata": {},
   "source": [
    "First thing is joining two dataframes (movie ratings and genres) by tconst"
   ]
  },
  {
   "cell_type": "code",
   "execution_count": 22,
   "id": "9fa4f4a3-46e9-4782-b999-4c46d6370907",
   "metadata": {
    "execution": {
     "iopub.execute_input": "2023-11-30T04:55:48.291587Z",
     "iopub.status.busy": "2023-11-30T04:55:48.291361Z",
     "iopub.status.idle": "2023-11-30T04:55:57.578858Z",
     "shell.execute_reply": "2023-11-30T04:55:57.578030Z",
     "shell.execute_reply.started": "2023-11-30T04:55:48.291564Z"
    },
    "tags": []
   },
   "outputs": [
    {
     "data": {
      "application/vnd.jupyter.widget-view+json": {
       "model_id": "467ebcd747be46a3b69202e28547c817",
       "version_major": 2,
       "version_minor": 0
      },
      "text/plain": [
       "VBox()"
      ]
     },
     "metadata": {},
     "output_type": "display_data"
    },
    {
     "data": {
      "application/vnd.jupyter.widget-view+json": {
       "model_id": "",
       "version_major": 2,
       "version_minor": 0
      },
      "text/plain": [
       "FloatProgress(value=0.0, bar_style='info', description='Progress:', layout=Layout(height='25px', width='50%'),…"
      ]
     },
     "metadata": {},
     "output_type": "display_data"
    },
    {
     "name": "stdout",
     "output_type": "stream",
     "text": [
      "+---------+-------------+\n",
      "|    genre|averageRating|\n",
      "+---------+-------------+\n",
      "|    Drama|          4.2|\n",
      "|    Drama|          4.2|\n",
      "|Biography|          4.1|\n",
      "|    Drama|          4.1|\n",
      "|  History|          4.1|\n",
      "|    Drama|          5.7|\n",
      "|    Drama|          4.6|\n",
      "|  History|          4.6|\n",
      "|Biography|          6.3|\n",
      "|    Drama|          6.3|\n",
      "+---------+-------------+\n",
      "only showing top 10 rows"
     ]
    }
   ],
   "source": [
    "average_rating_df = movie_ratings.join(genres.filter(genres.titleType == 'movie'), 'tconst').select('genre', 'averageRating')\n",
    "average_rating_df.show(10)"
   ]
  },
  {
   "cell_type": "markdown",
   "id": "ddaecf92-87a8-4a2d-bd9f-9148744a3203",
   "metadata": {},
   "source": [
    "Now, let's aggregate along the averageRating column to get a resultant dataframe that displays average rating per genre."
   ]
  },
  {
   "cell_type": "code",
   "execution_count": 23,
   "id": "459fc757-a2dc-491e-a3c9-d7642e7d975a",
   "metadata": {
    "execution": {
     "iopub.execute_input": "2023-11-30T04:55:57.580511Z",
     "iopub.status.busy": "2023-11-30T04:55:57.580168Z",
     "iopub.status.idle": "2023-11-30T04:55:57.830542Z",
     "shell.execute_reply": "2023-11-30T04:55:57.829655Z",
     "shell.execute_reply.started": "2023-11-30T04:55:57.580472Z"
    },
    "tags": []
   },
   "outputs": [
    {
     "data": {
      "application/vnd.jupyter.widget-view+json": {
       "model_id": "3446d3cc70574c7ab38acc37c5ae01e7",
       "version_major": 2,
       "version_minor": 0
      },
      "text/plain": [
       "VBox()"
      ]
     },
     "metadata": {},
     "output_type": "display_data"
    },
    {
     "data": {
      "application/vnd.jupyter.widget-view+json": {
       "model_id": "",
       "version_major": 2,
       "version_minor": 0
      },
      "text/plain": [
       "FloatProgress(value=0.0, bar_style='info', description='Progress:', layout=Layout(height='25px', width='50%'),…"
      ]
     },
     "metadata": {},
     "output_type": "display_data"
    }
   ],
   "source": [
    "average_rating_df = average_rating_df.withColumn('averageRating', average_rating_df['averageRating'].cast('float'))"
   ]
  },
  {
   "cell_type": "code",
   "execution_count": 24,
   "id": "1efcf7a8-3592-42ec-8021-10c5914067b7",
   "metadata": {
    "execution": {
     "iopub.execute_input": "2023-11-30T04:55:57.835125Z",
     "iopub.status.busy": "2023-11-30T04:55:57.834527Z",
     "iopub.status.idle": "2023-11-30T04:56:07.284163Z",
     "shell.execute_reply": "2023-11-30T04:56:07.283411Z",
     "shell.execute_reply.started": "2023-11-30T04:55:57.835086Z"
    },
    "tags": []
   },
   "outputs": [
    {
     "data": {
      "application/vnd.jupyter.widget-view+json": {
       "model_id": "ca70332ab885434b9ce4cba13bce29a0",
       "version_major": 2,
       "version_minor": 0
      },
      "text/plain": [
       "VBox()"
      ]
     },
     "metadata": {},
     "output_type": "display_data"
    },
    {
     "data": {
      "application/vnd.jupyter.widget-view+json": {
       "model_id": "",
       "version_major": 2,
       "version_minor": 0
      },
      "text/plain": [
       "FloatProgress(value=0.0, bar_style='info', description='Progress:', layout=Layout(height='25px', width='50%'),…"
      ]
     },
     "metadata": {},
     "output_type": "display_data"
    },
    {
     "name": "stdout",
     "output_type": "stream",
     "text": [
      "+-----------+------------------+\n",
      "|      genre|avg(averageRating)|\n",
      "+-----------+------------------+\n",
      "|    Mystery| 5.940437537126316|\n",
      "|    Musical| 6.203246053185319|\n",
      "|     Action| 5.718734067904495|\n",
      "|      Sport| 6.600145190943391|\n",
      "|    Romance| 6.125714179294426|\n",
      "|   Thriller| 5.625967567519544|\n",
      "|     Family| 6.250560452699635|\n",
      "|    Fantasy| 5.924820762891499|\n",
      "|    History| 6.822718117193864|\n",
      "|  Animation| 6.326203749467441|\n",
      "|  Film-Noir| 6.636246780503378|\n",
      "|     Sci-Fi| 5.325150006900168|\n",
      "|       News| 7.200916040944689|\n",
      "|      Drama| 6.288080211097538|\n",
      "|Documentary| 7.245469805371099|\n",
      "|    Western| 5.948970991005059|\n",
      "|     Comedy| 5.941363107822231|\n",
      "|      Crime| 6.026013333109149|\n",
      "|        War| 6.483807036278403|\n",
      "|      Adult| 5.721742579082059|\n",
      "+-----------+------------------+\n",
      "only showing top 20 rows"
     ]
    }
   ],
   "source": [
    "average_rating_df = average_rating_df.groupBy('genre').avg('averageRating')\n",
    "average_rating_df.show(20)"
   ]
  },
  {
   "cell_type": "markdown",
   "id": "ed2f970f-dfaf-4ee8-abe8-b696319f9c2c",
   "metadata": {},
   "source": [
    "### Horizontal Bar Chart of Top Genres"
   ]
  },
  {
   "cell_type": "markdown",
   "id": "7387395a-3aa9-4086-b973-1bd36c759394",
   "metadata": {},
   "source": [
    "With this data available, let us now build a barchart of all genres \n",
    "\n",
    "**HINT**: don't forget about the matplotlib magic!\n",
    "\n",
    "```\n",
    "%matplot plt\n",
    "```"
   ]
  },
  {
   "cell_type": "code",
   "execution_count": 25,
   "id": "ff30f124-cc02-4efe-9ba9-ef1475dee2de",
   "metadata": {
    "execution": {
     "iopub.execute_input": "2023-11-30T04:56:07.285404Z",
     "iopub.status.busy": "2023-11-30T04:56:07.285145Z",
     "iopub.status.idle": "2023-11-30T04:56:16.569913Z",
     "shell.execute_reply": "2023-11-30T04:56:16.569071Z",
     "shell.execute_reply.started": "2023-11-30T04:56:07.285379Z"
    },
    "tags": []
   },
   "outputs": [
    {
     "data": {
      "application/vnd.jupyter.widget-view+json": {
       "model_id": "03af450dac7a4435aa011480ff393f0c",
       "version_major": 2,
       "version_minor": 0
      },
      "text/plain": [
       "VBox()"
      ]
     },
     "metadata": {},
     "output_type": "display_data"
    },
    {
     "data": {
      "application/vnd.jupyter.widget-view+json": {
       "model_id": "",
       "version_major": 2,
       "version_minor": 0
      },
      "text/plain": [
       "FloatProgress(value=0.0, bar_style='info', description='Progress:', layout=Layout(height='25px', width='50%'),…"
      ]
     },
     "metadata": {},
     "output_type": "display_data"
    },
    {
     "name": "stdout",
     "output_type": "stream",
     "text": [
      "+-----------+------------------+\n",
      "|      genre|avg(averageRating)|\n",
      "+-----------+------------------+\n",
      "|      Short| 7.259999942779541|\n",
      "|Documentary| 7.245469805371099|\n",
      "|       News| 7.200916040944689|\n",
      "|  Biography| 6.983637643044585|\n",
      "|  Game-Show| 6.974999904632568|\n",
      "|    History| 6.822718117193864|\n",
      "|      Music| 6.752020207214588|\n",
      "|  Film-Noir| 6.636246780503378|\n",
      "|      Sport| 6.600145190943391|\n",
      "|        War| 6.483807036278403|\n",
      "| Reality-TV| 6.379310377712907|\n",
      "|  Animation| 6.326203749467441|\n",
      "|      Drama| 6.288080211097538|\n",
      "|     Family| 6.250560452699635|\n",
      "|    Musical| 6.203246053185319|\n",
      "|    Romance| 6.125714179294426|\n",
      "|      Crime| 6.026013333109149|\n",
      "|    Western| 5.948970991005059|\n",
      "|     Comedy| 5.941363107822231|\n",
      "|    Mystery| 5.940437537126316|\n",
      "+-----------+------------------+\n",
      "only showing top 20 rows"
     ]
    }
   ],
   "source": [
    "average_rating_df.sort('avg(averageRating)', ascending = False).show(20)"
   ]
  },
  {
   "cell_type": "markdown",
   "id": "6f553e07-3581-4c27-8470-91f70ada466e",
   "metadata": {},
   "source": [
    "transform spark df into pandas df"
   ]
  },
  {
   "cell_type": "code",
   "execution_count": 26,
   "id": "578fd70b-b253-4e79-9d71-7c5723a782bb",
   "metadata": {
    "execution": {
     "iopub.execute_input": "2023-11-30T04:56:16.571607Z",
     "iopub.status.busy": "2023-11-30T04:56:16.571258Z",
     "iopub.status.idle": "2023-11-30T04:56:25.896126Z",
     "shell.execute_reply": "2023-11-30T04:56:25.892715Z",
     "shell.execute_reply.started": "2023-11-30T04:56:16.571570Z"
    },
    "tags": []
   },
   "outputs": [
    {
     "data": {
      "application/vnd.jupyter.widget-view+json": {
       "model_id": "b9c0c10acc37443bb83d952efeee8dbd",
       "version_major": 2,
       "version_minor": 0
      },
      "text/plain": [
       "VBox()"
      ]
     },
     "metadata": {},
     "output_type": "display_data"
    },
    {
     "data": {
      "application/vnd.jupyter.widget-view+json": {
       "model_id": "",
       "version_major": 2,
       "version_minor": 0
      },
      "text/plain": [
       "FloatProgress(value=0.0, bar_style='info', description='Progress:', layout=Layout(height='25px', width='50%'),…"
      ]
     },
     "metadata": {},
     "output_type": "display_data"
    }
   ],
   "source": [
    "pddf = average_rating_df.sort('avg(averageRating)', ascending = True).toPandas()"
   ]
  },
  {
   "cell_type": "code",
   "execution_count": 27,
   "id": "6ea1891a-a7f4-48d4-91d1-2da6850124e4",
   "metadata": {
    "execution": {
     "iopub.execute_input": "2023-11-30T04:56:25.901617Z",
     "iopub.status.busy": "2023-11-30T04:56:25.901045Z",
     "iopub.status.idle": "2023-11-30T04:56:26.488444Z",
     "shell.execute_reply": "2023-11-30T04:56:26.337374Z",
     "shell.execute_reply.started": "2023-11-30T04:56:25.901577Z"
    },
    "tags": []
   },
   "outputs": [
    {
     "data": {
      "application/vnd.jupyter.widget-view+json": {
       "model_id": "ba35bbf576564ed19d7ebe4423d7afd6",
       "version_major": 2,
       "version_minor": 0
      },
      "text/plain": [
       "VBox()"
      ]
     },
     "metadata": {},
     "output_type": "display_data"
    },
    {
     "data": {
      "application/vnd.jupyter.widget-view+json": {
       "model_id": "",
       "version_major": 2,
       "version_minor": 0
      },
      "text/plain": [
       "FloatProgress(value=0.0, bar_style='info', description='Progress:', layout=Layout(height='25px', width='50%'),…"
      ]
     },
     "metadata": {},
     "output_type": "display_data"
    },
    {
     "data": {
      "image/png": "[encoded data removed]",
      "text/plain": [
       "<IPython.core.display.Image object>"
      ]
     },
     "metadata": {},
     "output_type": "display_data"
    }
   ],
   "source": [
    "pddf.plot.barh('genre', 'avg(averageRating)', color = 'pink') # I like pink\n",
    "plt.title('Top Genres in the Movie Category')\n",
    "plt.xlim(5.0, 7.5)\n",
    "plt.xlabel('Average Rating')\n",
    "plt.ylabel('Genre')\n",
    "plt.subplots_adjust(left = .2)\n",
    "%matplot plt"
   ]
  },
  {
   "cell_type": "markdown",
   "id": "e0ec9b8a-65c5-4843-86ad-30a2a64e6fb5",
   "metadata": {
    "tags": []
   },
   "source": [
    "# Part 3 - Analyzing Job Categories"
   ]
  },
  {
   "cell_type": "markdown",
   "id": "80445ec0-b784-4f36-bc94-3d60aceebeb5",
   "metadata": {},
   "source": [
    "## Total Unique Job Categories"
   ]
  },
  {
   "cell_type": "markdown",
   "id": "dae29566-5fe4-4c16-b439-34f765f38579",
   "metadata": {},
   "source": [
    "What is the total number of unique job categories?"
   ]
  },
  {
   "cell_type": "code",
   "execution_count": 28,
   "id": "ddeb1d40-084b-470b-bd16-0fbab65cfab9",
   "metadata": {
    "execution": {
     "iopub.execute_input": "2023-11-30T04:56:26.489919Z",
     "iopub.status.busy": "2023-11-30T04:56:26.489567Z",
     "iopub.status.idle": "2023-11-30T04:56:26.758424Z",
     "shell.execute_reply": "2023-11-30T04:56:26.757624Z",
     "shell.execute_reply.started": "2023-11-30T04:56:26.489883Z"
    }
   },
   "outputs": [
    {
     "data": {
      "application/vnd.jupyter.widget-view+json": {
       "model_id": "82ef9ee62ebc46f9aa8089af23e963a2",
       "version_major": 2,
       "version_minor": 0
      },
      "text/plain": [
       "VBox()"
      ]
     },
     "metadata": {},
     "output_type": "display_data"
    },
    {
     "data": {
      "application/vnd.jupyter.widget-view+json": {
       "model_id": "",
       "version_major": 2,
       "version_minor": 0
      },
      "text/plain": [
       "FloatProgress(value=0.0, bar_style='info', description='Progress:', layout=Layout(height='25px', width='50%'),…"
      ]
     },
     "metadata": {},
     "output_type": "display_data"
    },
    {
     "name": "stdout",
     "output_type": "stream",
     "text": [
      "+---------+---------------+\n",
      "|   tconst|       category|\n",
      "+---------+---------------+\n",
      "|tt0000001|           self|\n",
      "|tt0000001|       director|\n",
      "|tt0000001|cinematographer|\n",
      "|tt0000002|       director|\n",
      "|tt0000002|       composer|\n",
      "+---------+---------------+\n",
      "only showing top 5 rows"
     ]
    }
   ],
   "source": [
    "movie_actors.select('tconst', 'category').show(5)"
   ]
  },
  {
   "cell_type": "code",
   "execution_count": 29,
   "id": "9bb96493-4e93-47a3-ad86-df3b6fc19146",
   "metadata": {
    "execution": {
     "iopub.execute_input": "2023-11-30T04:56:26.760130Z",
     "iopub.status.busy": "2023-11-30T04:56:26.759800Z",
     "iopub.status.idle": "2023-11-30T04:56:52.096498Z",
     "shell.execute_reply": "2023-11-30T04:56:52.095662Z",
     "shell.execute_reply.started": "2023-11-30T04:56:26.760084Z"
    },
    "tags": []
   },
   "outputs": [
    {
     "data": {
      "application/vnd.jupyter.widget-view+json": {
       "model_id": "f903da91d0c9429ba8f14ae46f459878",
       "version_major": 2,
       "version_minor": 0
      },
      "text/plain": [
       "VBox()"
      ]
     },
     "metadata": {},
     "output_type": "display_data"
    },
    {
     "data": {
      "application/vnd.jupyter.widget-view+json": {
       "model_id": "",
       "version_major": 2,
       "version_minor": 0
      },
      "text/plain": [
       "FloatProgress(value=0.0, bar_style='info', description='Progress:', layout=Layout(height='25px', width='50%'),…"
      ]
     },
     "metadata": {},
     "output_type": "display_data"
    },
    {
     "name": "stdout",
     "output_type": "stream",
     "text": [
      "12"
     ]
    }
   ],
   "source": [
    "movie_actors.select(countDistinct('category')).collect()[0][0]"
   ]
  },
  {
   "cell_type": "markdown",
   "id": "ae871fa9-29d1-4066-b564-92cbca4d6eeb",
   "metadata": {
    "execution": {
     "iopub.execute_input": "2023-11-28T01:32:12.616692Z",
     "iopub.status.busy": "2023-11-28T01:32:12.616369Z",
     "iopub.status.idle": "2023-11-28T01:32:12.658968Z",
     "shell.execute_reply": "2023-11-28T01:32:12.658007Z",
     "shell.execute_reply.started": "2023-11-28T01:32:12.616658Z"
    }
   },
   "source": [
    "**What are the unique job categories available?**"
   ]
  },
  {
   "cell_type": "code",
   "execution_count": 30,
   "id": "9d126b9d-0790-4d60-a70e-a7d0ed4a4cd3",
   "metadata": {
    "execution": {
     "iopub.execute_input": "2023-11-30T04:56:52.098086Z",
     "iopub.status.busy": "2023-11-30T04:56:52.097745Z",
     "iopub.status.idle": "2023-11-30T04:57:17.424917Z",
     "shell.execute_reply": "2023-11-30T04:57:17.424220Z",
     "shell.execute_reply.started": "2023-11-30T04:56:52.098050Z"
    }
   },
   "outputs": [
    {
     "data": {
      "application/vnd.jupyter.widget-view+json": {
       "model_id": "943476d40fc84830bb1c6d280f906e52",
       "version_major": 2,
       "version_minor": 0
      },
      "text/plain": [
       "VBox()"
      ]
     },
     "metadata": {},
     "output_type": "display_data"
    },
    {
     "data": {
      "application/vnd.jupyter.widget-view+json": {
       "model_id": "",
       "version_major": 2,
       "version_minor": 0
      },
      "text/plain": [
       "FloatProgress(value=0.0, bar_style='info', description='Progress:', layout=Layout(height='25px', width='50%'),…"
      ]
     },
     "metadata": {},
     "output_type": "display_data"
    },
    {
     "name": "stdout",
     "output_type": "stream",
     "text": [
      "+-------------------+\n",
      "|category           |\n",
      "+-------------------+\n",
      "|actress            |\n",
      "|producer           |\n",
      "|production_designer|\n",
      "|writer             |\n",
      "|actor              |\n",
      "|cinematographer    |\n",
      "|archive_sound      |\n",
      "|archive_footage    |\n",
      "|self               |\n",
      "|editor             |\n",
      "|composer           |\n",
      "|director           |\n",
      "+-------------------+"
     ]
    }
   ],
   "source": [
    "movie_actors.select('category').distinct().show(truncate = False)"
   ]
  },
  {
   "cell_type": "markdown",
   "id": "1badeeea-7ada-4230-a9a4-8408899e885d",
   "metadata": {},
   "source": [
    "## Top Job Categories"
   ]
  },
  {
   "cell_type": "markdown",
   "id": "0eafc719-2af8-4ac3-ad7e-c45a3a4ea821",
   "metadata": {},
   "source": [
    "Now let's find the top job categories in the dataset by rolling up categories."
   ]
  },
  {
   "cell_type": "markdown",
   "id": "1757e931-ddd9-4bb8-84ba-0fec2a758e5f",
   "metadata": {
    "execution": {
     "iopub.execute_input": "2023-11-28T01:42:46.500942Z",
     "iopub.status.busy": "2023-11-28T01:42:46.500646Z",
     "iopub.status.idle": "2023-11-28T01:42:46.544600Z",
     "shell.execute_reply": "2023-11-28T01:42:46.543985Z",
     "shell.execute_reply.started": "2023-11-28T01:42:46.500917Z"
    },
    "tags": []
   },
   "source": [
    "### Count of Titles / Job Category"
   ]
  },
  {
   "cell_type": "markdown",
   "id": "faea2f1b-ecbe-44ff-b3e1-ef0f423a7d0b",
   "metadata": {
    "execution": {
     "iopub.execute_input": "2023-11-28T01:43:05.489341Z",
     "iopub.status.busy": "2023-11-28T01:43:05.488995Z",
     "iopub.status.idle": "2023-11-28T01:43:05.533361Z",
     "shell.execute_reply": "2023-11-28T01:43:05.532619Z",
     "shell.execute_reply.started": "2023-11-28T01:43:05.489313Z"
    }
   },
   "source": [
    "The expected output should be:\n",
    "\n",
    "| category | count |\n",
    "|-------------|------------|\n",
    "| a     | 15         |\n",
    "| b     | 2          |\n",
    "| c     | 45          |\n",
    "\n",
    "Or something to that effect."
   ]
  },
  {
   "cell_type": "code",
   "execution_count": 31,
   "id": "c6edd74e-6022-44cf-8228-7de9884fe5bd",
   "metadata": {
    "execution": {
     "iopub.execute_input": "2023-11-30T04:57:17.428757Z",
     "iopub.status.busy": "2023-11-30T04:57:17.428528Z",
     "iopub.status.idle": "2023-11-30T04:57:42.760419Z",
     "shell.execute_reply": "2023-11-30T04:57:42.759587Z",
     "shell.execute_reply.started": "2023-11-30T04:57:17.428733Z"
    }
   },
   "outputs": [
    {
     "data": {
      "application/vnd.jupyter.widget-view+json": {
       "model_id": "3a0735189a1c4c8fbea7c00e6e8c067a",
       "version_major": 2,
       "version_minor": 0
      },
      "text/plain": [
       "VBox()"
      ]
     },
     "metadata": {},
     "output_type": "display_data"
    },
    {
     "data": {
      "application/vnd.jupyter.widget-view+json": {
       "model_id": "",
       "version_major": 2,
       "version_minor": 0
      },
      "text/plain": [
       "FloatProgress(value=0.0, bar_style='info', description='Progress:', layout=Layout(height='25px', width='50%'),…"
      ]
     },
     "metadata": {},
     "output_type": "display_data"
    },
    {
     "name": "stdout",
     "output_type": "stream",
     "text": [
      "+-------------------+-------+\n",
      "|           category|  count|\n",
      "+-------------------+-------+\n",
      "|            actress|6325097|\n",
      "|           producer|2197866|\n",
      "|production_designer| 285924|\n",
      "|             writer|4811596|\n",
      "|              actor|8493701|\n",
      "|    cinematographer|1300404|\n",
      "|      archive_sound|   2143|\n",
      "|    archive_footage| 209035|\n",
      "|               self|6153089|\n",
      "|             editor|1197669|\n",
      "|           composer|1313187|\n",
      "|           director|4179106|\n",
      "+-------------------+-------+"
     ]
    }
   ],
   "source": [
    "movie_actors.groupBy('category').count().show()"
   ]
  },
  {
   "cell_type": "markdown",
   "id": "0f81a48a-ae5d-4183-8edd-e749b829f94d",
   "metadata": {},
   "source": [
    "### Bar Chart of Top Job Categories"
   ]
  },
  {
   "cell_type": "code",
   "execution_count": 32,
   "id": "e3de9831-db1e-442f-a233-a145f75d8877",
   "metadata": {
    "execution": {
     "iopub.execute_input": "2023-11-30T04:57:42.762507Z",
     "iopub.status.busy": "2023-11-30T04:57:42.762148Z",
     "iopub.status.idle": "2023-11-30T04:58:06.087870Z",
     "shell.execute_reply": "2023-11-30T04:58:06.086968Z",
     "shell.execute_reply.started": "2023-11-30T04:57:42.762471Z"
    },
    "tags": []
   },
   "outputs": [
    {
     "data": {
      "application/vnd.jupyter.widget-view+json": {
       "model_id": "0c40a043067146659dc295e847301fe0",
       "version_major": 2,
       "version_minor": 0
      },
      "text/plain": [
       "VBox()"
      ]
     },
     "metadata": {},
     "output_type": "display_data"
    },
    {
     "data": {
      "application/vnd.jupyter.widget-view+json": {
       "model_id": "",
       "version_major": 2,
       "version_minor": 0
      },
      "text/plain": [
       "FloatProgress(value=0.0, bar_style='info', description='Progress:', layout=Layout(height='25px', width='50%'),…"
      ]
     },
     "metadata": {},
     "output_type": "display_data"
    },
    {
     "name": "stdout",
     "output_type": "stream",
     "text": [
      "+-------------------+-------+\n",
      "|           category|  count|\n",
      "+-------------------+-------+\n",
      "|              actor|8493701|\n",
      "|            actress|6325097|\n",
      "|               self|6153089|\n",
      "|             writer|4811596|\n",
      "|           director|4179106|\n",
      "|           producer|2197866|\n",
      "|           composer|1313187|\n",
      "|    cinematographer|1300404|\n",
      "|             editor|1197669|\n",
      "|production_designer| 285924|\n",
      "|    archive_footage| 209035|\n",
      "|      archive_sound|   2143|\n",
      "+-------------------+-------+"
     ]
    }
   ],
   "source": [
    "top_actors_jobs = movie_actors.groupBy('category').count().sort('count', ascending = False)\n",
    "top_actors_jobs.show()"
   ]
  },
  {
   "cell_type": "code",
   "execution_count": 33,
   "id": "60874c4d-cfa3-459c-a977-38bb251e9099",
   "metadata": {
    "execution": {
     "iopub.execute_input": "2023-11-30T04:58:06.089169Z",
     "iopub.status.busy": "2023-11-30T04:58:06.088934Z",
     "iopub.status.idle": "2023-11-30T04:58:31.429803Z",
     "shell.execute_reply": "2023-11-30T04:58:31.428781Z",
     "shell.execute_reply.started": "2023-11-30T04:58:06.089146Z"
    },
    "tags": []
   },
   "outputs": [
    {
     "data": {
      "application/vnd.jupyter.widget-view+json": {
       "model_id": "9cd2e9248068473daddd5efed9751418",
       "version_major": 2,
       "version_minor": 0
      },
      "text/plain": [
       "VBox()"
      ]
     },
     "metadata": {},
     "output_type": "display_data"
    },
    {
     "data": {
      "application/vnd.jupyter.widget-view+json": {
       "model_id": "",
       "version_major": 2,
       "version_minor": 0
      },
      "text/plain": [
       "FloatProgress(value=0.0, bar_style='info', description='Progress:', layout=Layout(height='25px', width='50%'),…"
      ]
     },
     "metadata": {},
     "output_type": "display_data"
    },
    {
     "data": {
      "image/png": "[encoded data removed]",
      "text/plain": [
       "<IPython.core.display.Image object>"
      ]
     },
     "metadata": {},
     "output_type": "display_data"
    }
   ],
   "source": [
    "pd_actors = top_actors_jobs.limit(5).toPandas()\n",
    "pd_actors.plot.bar('category', 'count', color = 'orange')\n",
    "plt.title('Top Job Categories')\n",
    "plt.xlabel('Job Categories')\n",
    "plt.ylabel('Count')\n",
    "plt.ylim(3000000,9000000)\n",
    "%matplot plt"
   ]
  },
  {
   "cell_type": "markdown",
   "id": "6f812b5d-2c4a-4f4d-827b-ee5049b8b058",
   "metadata": {},
   "source": [
    "# Part 4 - Answer the following questions:"
   ]
  },
  {
   "cell_type": "markdown",
   "id": "7ac5457a-836c-4205-acf9-cfab0ea96758",
   "metadata": {},
   "source": [
    "## Find all the \"movies\" featuring \"Johnny Depp\" and \"Helena Bonham Carter\"."
   ]
  },
  {
   "cell_type": "markdown",
   "id": "676d39fb-7ad1-4659-9032-c60d4b7572f0",
   "metadata": {},
   "source": [
    "First join actors, genres, and movie actors on each other"
   ]
  },
  {
   "cell_type": "code",
   "execution_count": 34,
   "id": "452334c1-62f6-4bec-ba59-545828070549",
   "metadata": {
    "execution": {
     "iopub.execute_input": "2023-11-30T04:58:31.431564Z",
     "iopub.status.busy": "2023-11-30T04:58:31.431235Z",
     "iopub.status.idle": "2023-11-30T04:58:31.690682Z",
     "shell.execute_reply": "2023-11-30T04:58:31.689927Z",
     "shell.execute_reply.started": "2023-11-30T04:58:31.431529Z"
    },
    "tags": []
   },
   "outputs": [
    {
     "data": {
      "application/vnd.jupyter.widget-view+json": {
       "model_id": "da12c0bfd0594b339b67d29ffcf35cb2",
       "version_major": 2,
       "version_minor": 0
      },
      "text/plain": [
       "VBox()"
      ]
     },
     "metadata": {},
     "output_type": "display_data"
    },
    {
     "data": {
      "application/vnd.jupyter.widget-view+json": {
       "model_id": "",
       "version_major": 2,
       "version_minor": 0
      },
      "text/plain": [
       "FloatProgress(value=0.0, bar_style='info', description='Progress:', layout=Layout(height='25px', width='50%'),…"
      ]
     },
     "metadata": {},
     "output_type": "display_data"
    }
   ],
   "source": [
    "q4df = genres.join(movie_actors, 'tconst').join(actors, 'nconst').filter(genres.titleType == 'movie').select('category', 'primaryName', 'startYear', 'primaryTitle')"
   ]
  },
  {
   "cell_type": "code",
   "execution_count": 35,
   "id": "485067af-12ca-4709-8ea2-ce2979d5bf42",
   "metadata": {
    "execution": {
     "iopub.execute_input": "2023-11-30T04:58:31.692167Z",
     "iopub.status.busy": "2023-11-30T04:58:31.691809Z",
     "iopub.status.idle": "2023-11-30T04:58:31.946073Z",
     "shell.execute_reply": "2023-11-30T04:58:31.945292Z",
     "shell.execute_reply.started": "2023-11-30T04:58:31.692129Z"
    },
    "tags": []
   },
   "outputs": [
    {
     "data": {
      "application/vnd.jupyter.widget-view+json": {
       "model_id": "d39d0fbc470b438794f7afa51f58e2e6",
       "version_major": 2,
       "version_minor": 0
      },
      "text/plain": [
       "VBox()"
      ]
     },
     "metadata": {},
     "output_type": "display_data"
    },
    {
     "data": {
      "application/vnd.jupyter.widget-view+json": {
       "model_id": "",
       "version_major": 2,
       "version_minor": 0
      },
      "text/plain": [
       "FloatProgress(value=0.0, bar_style='info', description='Progress:', layout=Layout(height='25px', width='50%'),…"
      ]
     },
     "metadata": {},
     "output_type": "display_data"
    }
   ],
   "source": [
    "q4df.createOrReplaceTempView('movies')"
   ]
  },
  {
   "cell_type": "code",
   "execution_count": 40,
   "id": "51e40ae0-c592-4dfa-bb7c-a8f80f2f77c8",
   "metadata": {
    "execution": {
     "iopub.execute_input": "2023-11-30T05:02:36.164395Z",
     "iopub.status.busy": "2023-11-30T05:02:36.164067Z",
     "iopub.status.idle": "2023-11-30T05:03:47.635119Z",
     "shell.execute_reply": "2023-11-30T05:03:47.634392Z",
     "shell.execute_reply.started": "2023-11-30T05:02:36.164367Z"
    }
   },
   "outputs": [
    {
     "data": {
      "application/vnd.jupyter.widget-view+json": {
       "model_id": "706d8346ebf840c187350dccbba0099b",
       "version_major": 2,
       "version_minor": 0
      },
      "text/plain": [
       "VBox()"
      ]
     },
     "metadata": {},
     "output_type": "display_data"
    },
    {
     "data": {
      "application/vnd.jupyter.widget-view+json": {
       "model_id": "",
       "version_major": 2,
       "version_minor": 0
      },
      "text/plain": [
       "FloatProgress(value=0.0, bar_style='info', description='Progress:', layout=Layout(height='25px', width='50%'),…"
      ]
     },
     "metadata": {},
     "output_type": "display_data"
    },
    {
     "name": "stdout",
     "output_type": "stream",
     "text": [
      "+----------------------------------------------+\n",
      "|primaryTitle                                  |\n",
      "+----------------------------------------------+\n",
      "|Corpse Bride                                  |\n",
      "|Dark Shadows                                  |\n",
      "|Charlie and the Chocolate Factory             |\n",
      "|Alice Through the Looking Glass               |\n",
      "|Sweeney Todd: The Demon Barber of Fleet Street|\n",
      "|Alice in Wonderland                           |\n",
      "+----------------------------------------------+"
     ]
    }
   ],
   "source": [
    "spark.sql(\"\"\"\n",
    "SELECT DISTINCT m1.primaryTitle\n",
    "FROM movies m1, movies m2\n",
    "WHERE m1.primaryTitle = m2.primaryTitle\n",
    "AND m1.primaryName = 'Johnny Depp'\n",
    "AND m2.primaryName = 'Helena Bonham Carter'\n",
    "\"\"\").show(truncate = False)"
   ]
  },
  {
   "cell_type": "markdown",
   "id": "340fe18d-fb16-471c-bec1-4cb59e071283",
   "metadata": {},
   "source": [
    "## 2) Find all the \"movies\" featuring \"Brad Pitt\" after 2010."
   ]
  },
  {
   "cell_type": "code",
   "execution_count": 41,
   "id": "1e6fe01e-2c1e-4dbd-b148-8e69a6734781",
   "metadata": {
    "execution": {
     "iopub.execute_input": "2023-11-30T05:03:47.636339Z",
     "iopub.status.busy": "2023-11-30T05:03:47.636111Z",
     "iopub.status.idle": "2023-11-30T05:04:43.436616Z",
     "shell.execute_reply": "2023-11-30T05:04:43.428995Z",
     "shell.execute_reply.started": "2023-11-30T05:03:47.636315Z"
    },
    "tags": []
   },
   "outputs": [
    {
     "data": {
      "application/vnd.jupyter.widget-view+json": {
       "model_id": "da3f554d84c142a88de21abedad0a0a6",
       "version_major": 2,
       "version_minor": 0
      },
      "text/plain": [
       "VBox()"
      ]
     },
     "metadata": {},
     "output_type": "display_data"
    },
    {
     "data": {
      "application/vnd.jupyter.widget-view+json": {
       "model_id": "",
       "version_major": 2,
       "version_minor": 0
      },
      "text/plain": [
       "FloatProgress(value=0.0, bar_style='info', description='Progress:', layout=Layout(height='25px', width='50%'),…"
      ]
     },
     "metadata": {},
     "output_type": "display_data"
    },
    {
     "name": "stdout",
     "output_type": "stream",
     "text": [
      "+---------------------------------+---------+\n",
      "|primaryTitle                     |startYear|\n",
      "+---------------------------------+---------+\n",
      "|Babylon                          |2021     |\n",
      "|Irresistible                     |2020     |\n",
      "|Kajillionaire                    |2020     |\n",
      "|The King                         |2019     |\n",
      "|Once Upon a Time ... in Hollywood|2019     |\n",
      "|Ad Astra                         |2019     |\n",
      "|Vice                             |2018     |\n",
      "|War Machine                      |2017     |\n",
      "|Allied                           |2016     |\n",
      "|Voyage of Time: Life's Journey   |2016     |\n",
      "|Hitting the Apex                 |2015     |\n",
      "|The Big Short                    |2015     |\n",
      "|By the Sea                       |2015     |\n",
      "|Fury                             |2014     |\n",
      "|World War Z                      |2013     |\n",
      "|Kick-Ass 2                       |2013     |\n",
      "|12 Years a Slave                 |2013     |\n",
      "|Killing Them Softly              |2012     |\n",
      "|Moneyball                        |2011     |\n",
      "|The Tree of Life                 |2011     |\n",
      "+---------------------------------+---------+"
     ]
    }
   ],
   "source": [
    "q4df.filter(q4df.primaryName == 'Brad Pitt').filter(q4df.startYear > 2010).distinct().sort('startYear', ascending = False).select('primaryTitle', 'startYear').show(truncate = False)"
   ]
  },
  {
   "cell_type": "markdown",
   "id": "881b07f7-68fe-404f-9846-b9622a754341",
   "metadata": {},
   "source": [
    "## 3) What is the number of \"movies\" \"acted\" by \"Zendaya\" per year?"
   ]
  },
  {
   "cell_type": "code",
   "execution_count": 42,
   "id": "70cb97f8-7fa7-45f5-93ed-afa175a9ef9d",
   "metadata": {
    "execution": {
     "iopub.execute_input": "2023-11-30T05:04:43.438337Z",
     "iopub.status.busy": "2023-11-30T05:04:43.438093Z",
     "iopub.status.idle": "2023-11-30T05:05:26.856119Z",
     "shell.execute_reply": "2023-11-30T05:05:26.855314Z",
     "shell.execute_reply.started": "2023-11-30T05:04:43.438313Z"
    },
    "tags": []
   },
   "outputs": [
    {
     "data": {
      "application/vnd.jupyter.widget-view+json": {
       "model_id": "1cb07da1672b40898df7f3c7d1eb6561",
       "version_major": 2,
       "version_minor": 0
      },
      "text/plain": [
       "VBox()"
      ]
     },
     "metadata": {},
     "output_type": "display_data"
    },
    {
     "data": {
      "application/vnd.jupyter.widget-view+json": {
       "model_id": "",
       "version_major": 2,
       "version_minor": 0
      },
      "text/plain": [
       "FloatProgress(value=0.0, bar_style='info', description='Progress:', layout=Layout(height='25px', width='50%'),…"
      ]
     },
     "metadata": {},
     "output_type": "display_data"
    },
    {
     "name": "stdout",
     "output_type": "stream",
     "text": [
      "+---------+-----+\n",
      "|startYear|count|\n",
      "+---------+-----+\n",
      "|     2020|    1|\n",
      "|     2018|    2|\n",
      "|     2017|    1|\n",
      "+---------+-----+"
     ]
    }
   ],
   "source": [
    "q4df.filter(q4df.category == 'actress').filter(q4df.primaryName == 'Zendaya').filter(q4df.startYear != '\\\\N').distinct().groupby('startYear').count().show()"
   ]
  },
  {
   "cell_type": "markdown",
   "id": "806dcf35-4371-40f4-8934-d69cba83c8fc",
   "metadata": {},
   "source": [
    "## 4) What are the \"movies\" by average rating greater than \"9.7\" and released in \"2019\"?"
   ]
  },
  {
   "cell_type": "code",
   "execution_count": 43,
   "id": "8c943b4f-a0b1-48c1-8f65-980f977d86e9",
   "metadata": {
    "execution": {
     "iopub.execute_input": "2023-11-30T05:05:26.857476Z",
     "iopub.status.busy": "2023-11-30T05:05:26.857232Z",
     "iopub.status.idle": "2023-11-30T05:05:34.159672Z",
     "shell.execute_reply": "2023-11-30T05:05:34.158855Z",
     "shell.execute_reply.started": "2023-11-30T05:05:26.857435Z"
    },
    "tags": []
   },
   "outputs": [
    {
     "data": {
      "application/vnd.jupyter.widget-view+json": {
       "model_id": "ff1353d0be2045649408ed859cbe1186",
       "version_major": 2,
       "version_minor": 0
      },
      "text/plain": [
       "VBox()"
      ]
     },
     "metadata": {},
     "output_type": "display_data"
    },
    {
     "data": {
      "application/vnd.jupyter.widget-view+json": {
       "model_id": "",
       "version_major": 2,
       "version_minor": 0
      },
      "text/plain": [
       "FloatProgress(value=0.0, bar_style='info', description='Progress:', layout=Layout(height='25px', width='50%'),…"
      ]
     },
     "metadata": {},
     "output_type": "display_data"
    },
    {
     "name": "stdout",
     "output_type": "stream",
     "text": [
      "+-------------------------------------------------+-------------+\n",
      "|primaryTitle                                     |averageRating|\n",
      "+-------------------------------------------------+-------------+\n",
      "|The Twilight Zone: A 60th Anniversary Celebration|10.0         |\n",
      "|The Butcher Baronet                              |10.0         |\n",
      "|A Medicine for the Mind                          |10.0         |\n",
      "|L'Enfant Terrible                                |10.0         |\n",
      "|A Grunt's Life                                   |10.0         |\n",
      "|Our Scripted Life                                |10.0         |\n",
      "|Bu Can Var Oldugu Sürece                         |10.0         |\n",
      "|Love in Kilnerry                                 |10.0         |\n",
      "|Kirket                                           |10.0         |\n",
      "|The Cardinal                                     |9.9          |\n",
      "|Superhombre                                      |9.9          |\n",
      "|Puritan: All of Life to The Glory of God         |9.9          |\n",
      "|Square One                                       |9.8          |\n",
      "|Gini Helida Kathe                                |9.8          |\n",
      "|Kamen Rider Zi-O: Over Quartzer                  |9.8          |\n",
      "|We Shall Not Die Now                             |9.8          |\n",
      "|From Shock to Awe                                |9.8          |\n",
      "|Randhawa                                         |9.8          |\n",
      "|Time and motion                                  |9.8          |\n",
      "+-------------------------------------------------+-------------+"
     ]
    }
   ],
   "source": [
    "q4_4 = genres.join(movie_ratings, 'tconst').filter(genres.titleType == 'movie').filter(movie_ratings.averageRating > 9.7).filter(genres.startYear == 2019).select('primaryTitle', 'averageRating').distinct()\n",
    "q4_4.withColumn('averageRating', q4_4.averageRating.cast('float')).sort('averageRating', ascending = False).show(truncate = False)"
   ]
  }
 ],
 "metadata": {
  "kernelspec": {
   "display_name": "PySpark",
   "language": "python",
   "name": "pysparkkernel"
  },
  "language_info": {
   "codemirror_mode": {
    "name": "python",
    "version": 3
   },
   "file_extension": ".py",
   "mimetype": "text/x-python",
   "name": "pyspark",
   "pygments_lexer": "python3"
  }
 },
 "nbformat": 4,
 "nbformat_minor": 5
}
